{
 "cells": [
  {
   "cell_type": "code",
   "execution_count": 1,
   "metadata": {},
   "outputs": [],
   "source": [
    "import os\n",
    "from glob import glob"
   ]
  },
  {
   "cell_type": "code",
   "execution_count": 4,
   "metadata": {},
   "outputs": [],
   "source": [
    "data_dir = 'pdf_data'\n",
    "\n",
    "pdf_folders = ['from_github', 'front', 'backend', 'mobile_fullstack']\n",
    "\n",
    "for folder_name in pdf_folders:\n",
    "    folder_path = os.path.join(data_dir, folder_name)\n",
    "    pdf_files = glob(os.path.join(folder_path, '*.pdf'))\n",
    "\n",
    "\n",
    "    for pdf_file in pdf_files:\n",
    "        # change name with pdf_file\n",
    "        name = os.path.splitext(os.path.basename(pdf_file))[0]\n",
    "        new_name = f'{folder_name}_{name}.pdf'\n",
    "        new_path = os.path.join(data_dir, new_name)\n",
    "        os.rename(pdf_file, new_path)\n",
    "    "
   ]
  },
  {
   "cell_type": "code",
   "execution_count": null,
   "metadata": {},
   "outputs": [],
   "source": []
  }
 ],
 "metadata": {
  "kernelspec": {
   "display_name": ".venv",
   "language": "python",
   "name": "python3"
  },
  "language_info": {
   "codemirror_mode": {
    "name": "ipython",
    "version": 3
   },
   "file_extension": ".py",
   "mimetype": "text/x-python",
   "name": "python",
   "nbconvert_exporter": "python",
   "pygments_lexer": "ipython3",
   "version": "3.11.10"
  }
 },
 "nbformat": 4,
 "nbformat_minor": 2
}
